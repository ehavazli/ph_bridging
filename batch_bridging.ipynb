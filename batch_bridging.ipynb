{
 "cells": [
  {
   "cell_type": "code",
   "execution_count": null,
   "id": "a4fc67ad-3e6d-4cf8-be0f-4186c415ac09",
   "metadata": {},
   "outputs": [],
   "source": [
    "import rasterio as rio\n",
    "from conncomp import connectComponent\n",
    "import numpy as np\n",
    "from pathlib import Path\n",
    "import time\n",
    "import multiprocessing\n",
    "# import matplotlib.pyplot as plt\n",
    "# plt.rcParams['figure.figsize'] = [20, 10]\n",
    "# from rasterio.plot import show"
   ]
  },
  {
   "cell_type": "code",
   "execution_count": null,
   "id": "aff89964-657c-48f8-8a46-0ceab472f5df",
   "metadata": {},
   "outputs": [],
   "source": [
    "def get_unw_conncomp(unw_file, conncomp_file):\n",
    "    with rio.open(unw_file) as unw:\n",
    "        unw_profile = unw.profile\n",
    "        transform = unw.transform\n",
    "        if unw_profile['count'] == 1:\n",
    "            amp_data = np.nan\n",
    "            unw_data = unw.read(1)\n",
    "        if unw_profile['count'] == 2:\n",
    "            amp_data = unw.read(1)\n",
    "            unw_data = unw.read(2)\n",
    "\n",
    "    with rio.open(conncomp_file) as conncomp:\n",
    "        # conncomp_profile = conncomp.profile\n",
    "        conncomp_data = conncomp.read(1)\n",
    "    return unw_data, conncomp_data, amp_data, unw_profile, transform"
   ]
  },
  {
   "cell_type": "code",
   "execution_count": null,
   "id": "49c5a9ca-2523-4882-88d2-4920d3bdcde2",
   "metadata": {},
   "outputs": [],
   "source": [
    "def write_file(unw_arr, amp_arr, profile, new_filename):\n",
    "    if np.isnan(amp_arr):\n",
    "        del amp_arr\n",
    "\n",
    "    with rio.open(new_filename, 'w', **profile) as dst:\n",
    "        if profile['count'] == 1:\n",
    "            dst.write(unw_arr, 1)\n",
    "        if profile['count'] == 2:\n",
    "            dst.write(amp_arr, 1)\n",
    "            dst.write(unw_arr, 2)\n",
    "    return"
   ]
  },
  {
   "cell_type": "code",
   "execution_count": null,
   "id": "932d3d9c-602a-4979-a311-275ad609ee8f",
   "metadata": {},
   "outputs": [],
   "source": [
    "# input_folder = Path('/u/aurora-r0/havazli/disp-test-cases/DC_F834_T04/unwrapped')\n",
    "input_folder = Path('/u/aurora-r0/havazli/disp-test-cases/Idaho/Idaho_V11/unwrapped')\n",
    "output_folder = Path(f'{input_folder.parent}/unwrapped_bridging_masked')\n",
    "output_folder.mkdir(exist_ok=True)"
   ]
  },
  {
   "cell_type": "code",
   "execution_count": null,
   "id": "b7c3f3ca-f27d-41d5-b88a-6cb9a7c90d24",
   "metadata": {},
   "outputs": [],
   "source": [
    "unw_file_list = sorted(input_folder.glob('*.unw.tif'))\n",
    "conncomp_file_list = sorted(input_folder.glob('*.unw.conncomp.tif'))"
   ]
  },
  {
   "cell_type": "code",
   "execution_count": null,
   "id": "a675250d-91cf-4a72-9bb2-62d00bac953d",
   "metadata": {},
   "outputs": [],
   "source": [
    "def bridge_iteration(unw_file, conncomp_file, output_folder):\n",
    "    unw, conncomp, amp, profile, transform = get_unw_conncomp(unw_file, conncomp_file)\n",
    "    unw = np.ma.masked_where(unw < -1000, unw)\n",
    "    cc = connectComponent(conncomp=conncomp, metadata=profile)\n",
    "    brdg_labels = cc.label()\n",
    "    bridges = cc.find_mst_bridge()\n",
    "    bridge_unw = cc.unwrap_conn_comp(unw)\n",
    "    outfile_name = f\"{output_folder}/{unw_file.stem.replace('.unw', '_brdg.unw')}{unw_file.suffix}\"\n",
    "    write_file(bridge_unw, amp, profile, outfile_name)\n",
    "\n",
    "    return print(f'Wrote: {outfile_name}')"
   ]
  },
  {
   "cell_type": "code",
   "execution_count": null,
   "id": "d15d03b5-043c-4baa-9482-c9e048a957f8",
   "metadata": {
    "scrolled": true
   },
   "outputs": [],
   "source": [
    "st = time.time()\n",
    "with multiprocessing.Pool(processes=4) as pool:\n",
    "    # Map the process_iteration function to each pair of unw_file and conncomp_file\n",
    "    pool.starmap(bridge_iteration, [(unw, conncomp, output_folder) for unw, conncomp in zip(unw_file_list, conncomp_file_list)])\n",
    "et = time.time()\n",
    "elapsed_time = (et - st) / 60\n",
    "print(f'Elapsed time: {elapsed_time} minutes') # Elapsed time: 68.6463327685992 minutes Idaho_V11"
   ]
  },
  {
   "cell_type": "code",
   "execution_count": null,
   "id": "e0db6cbe-0400-409d-83dd-629d462b539a",
   "metadata": {
    "scrolled": true
   },
   "outputs": [],
   "source": [
    "# st = time.time()\n",
    "# for idx, val in enumerate(unw_file_list):\n",
    "#     unw, conncomp, amp, profile, transform = get_unw_conncomp(val, conncomp_file_list[idx])\n",
    "#     unw = np.ma.masked_where(unw < -1000, unw)\n",
    "#     cc = connectComponent(conncomp=conncomp, metadata=profile)\n",
    "#     brdg_labels = cc.label()\n",
    "#     bridges = cc.find_mst_bridge()\n",
    "#     bridge_unw = cc.unwrap_conn_comp(unw)\n",
    "#     outfile_name = f'{output_folder}/{val.stem}_brdg_msk{val.suffix}'\n",
    "#     write_file(bridge_unw, amp, profile, outfile_name)\n",
    "# et = time.time()\n",
    "# elapsed_time = (et - st) / 60\n",
    "# print(f'Elapsed time: {elapsed_time} minutes')"
   ]
  },
  {
   "cell_type": "code",
   "execution_count": null,
   "id": "fd35ce45-54d3-4959-ac73-e7ba947c72a3",
   "metadata": {},
   "outputs": [],
   "source": [
    "import gc\n",
    "gc.collect()"
   ]
  }
 ],
 "metadata": {
  "kernelspec": {
   "display_name": "opera",
   "language": "python",
   "name": "opera"
  },
  "language_info": {
   "codemirror_mode": {
    "name": "ipython",
    "version": 3
   },
   "file_extension": ".py",
   "mimetype": "text/x-python",
   "name": "python",
   "nbconvert_exporter": "python",
   "pygments_lexer": "ipython3",
   "version": "3.11.8"
  }
 },
 "nbformat": 4,
 "nbformat_minor": 5
}
